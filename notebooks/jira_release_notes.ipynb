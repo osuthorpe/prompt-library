{
 "cells": [
  {
   "cell_type": "markdown",
   "metadata": {},
   "source": [
    "# Jira SQL to generate the file\n",
    "project = \"BPD\" AND labels = Release_Notes AND fixversion = 12-13-2024 ORDER BY key DESC, created DESC"
   ]
  },
  {
   "cell_type": "code",
   "execution_count": null,
   "metadata": {},
   "outputs": [],
   "source": [
    "# Import Necessary Libraries\n",
    "import os\n",
    "import yaml\n",
    "import pandas as pd\n",
    "from datetime import datetime\n",
    "import openai"
   ]
  },
  {
   "cell_type": "code",
   "execution_count": null,
   "metadata": {},
   "outputs": [],
   "source": [
    "# Define Variables\n",
    "PROMPTS_DIR = \"prompts\"\n",
    "CREATE_RELEASE_NOTE_PROMPT_FILE = os.path.join(PROMPTS_DIR, \"create_release_notes.yaml\")\n",
    "CATEGORIZE_RELEASE_NOTE_PROMPT_FILE = os.path.join(PROMPTS_DIR, \"categorize_release_notes.yaml\")\n",
    "\n",
    "# Path to the CSV file containing Jira issues\n",
    "CSV_FILE_PATH = \"path/to/your/jira_issues.csv\"  # Update this path\n",
    "\n",
    "# OpenAI API Key\n",
    "SECRETS_FILE = \"supporting_files/secrets.yaml\"\n",
    "with open(SECRETS_FILE, \"r\") as secrets_file:\n",
    "    secrets = yaml.safe_load(secrets_file)\n",
    "openai.api_key = secrets[\"openai_api_key\"]"
   ]
  },
  {
   "cell_type": "code",
   "execution_count": null,
   "metadata": {},
   "outputs": [],
   "source": [
    "# Load YAML Prompts\n",
    "def load_yaml_prompt(file_path):\n",
    "    \"\"\"Load a YAML prompt from a specified file.\"\"\"\n",
    "    with open(file_path, \"r\") as file:\n",
    "        return yaml.safe_load(file)\n",
    "\n",
    "create_release_note_prompt = load_yaml_prompt(CREATE_RELEASE_NOTE_PROMPT_FILE)\n",
    "categorize_release_notes_prompt = load_yaml_prompt(CATEGORIZE_RELEASE_NOTE_PROMPT_FILE)"
   ]
  },
  {
   "cell_type": "code",
   "execution_count": null,
   "metadata": {},
   "outputs": [],
   "source": [
    "# Utility Functions\n",
    "def get_day_suffix(day):\n",
    "    \"\"\"Returns the appropriate suffix for a given day.\"\"\"\n",
    "    if 4 <= day <= 20 or 24 <= day <= 30:\n",
    "        return \"th\"\n",
    "    else:\n",
    "        return [\"st\", \"nd\", \"rd\"][day % 10 - 1]\n",
    "\n",
    "def get_formatted_date():\n",
    "    \"\"\"Returns today's date formatted with day of the week and suffix.\"\"\"\n",
    "    today = datetime.today()\n",
    "    day = today.day\n",
    "    suffix = get_day_suffix(day)\n",
    "    month = today.strftime(\"%B\")\n",
    "    year = today.year\n",
    "    day_of_week = today.strftime(\"%A\")\n",
    "    return f\"{day_of_week}, {month} {day}{suffix}, {year}\""
   ]
  },
  {
   "cell_type": "code",
   "execution_count": null,
   "metadata": {},
   "outputs": [],
   "source": [
    "# Create Release Note\n",
    "def create_release_note_for_story(title, description, labels):\n",
    "    \"\"\"Generates a single-sentence release note using OpenAI.\"\"\"\n",
    "    prompt = create_release_note_prompt[\"full_prompt\"]\n",
    "    filled_prompt = prompt.replace(\"{{title}}\", title).replace(\"{{description}}\", description).replace(\"{{labels}}\", labels or \"No labels provided\")\n",
    "    \n",
    "    messages = [\n",
    "        {\"role\": \"system\", \"content\": \"You are a helpful assistant.\"},\n",
    "        {\"role\": \"user\", \"content\": filled_prompt}\n",
    "    ]\n",
    "    \n",
    "    response = openai.ChatCompletion.create(\n",
    "        model=create_release_note_prompt[\"recommended_model\"][\"model\"],\n",
    "        messages=messages,\n",
    "        max_tokens=500\n",
    "    )\n",
    "    return response[\"choices\"][0][\"message\"][\"content\"]"
   ]
  },
  {
   "cell_type": "code",
   "execution_count": null,
   "metadata": {},
   "outputs": [],
   "source": [
    "# Categorize Release Notes\n",
    "def categorize_release_notes(release_notes, categories):\n",
    "    \"\"\"Categorizes release notes using OpenAI.\"\"\"\n",
    "    prompt = categorize_release_notes_prompt[\"full_prompt\"]\n",
    "    filled_prompt = prompt.replace(\"{{categories}}\", \", \".join(categories)).replace(\"{{release_notes}}\", release_notes)\n",
    "    \n",
    "    messages = [\n",
    "        {\"role\": \"system\", \"content\": \"You are a helpful assistant.\"},\n",
    "        {\"role\": \"user\", \"content\": filled_prompt}\n",
    "    ]\n",
    "    \n",
    "    response = openai.ChatCompletion.create(\n",
    "        model=categorize_release_notes_prompt[\"recommended_model\"][\"model\"],\n",
    "        messages=messages,\n",
    "        max_tokens=4096\n",
    "    )\n",
    "    return response[\"choices\"][0][\"message\"][\"content\"]"
   ]
  },
  {
   "cell_type": "code",
   "execution_count": null,
   "metadata": {},
   "outputs": [],
   "source": [
    "# Generate Release Notes\n",
    "def generate_release_notes_from_csv(csv_file_path, categories):\n",
    "    \"\"\"Processes Jira issues from a CSV file and generates categorized release notes.\"\"\"\n",
    "    issues_df = pd.read_csv(csv_file_path)\n",
    "    release_notes = \"\"\n",
    "    \n",
    "    for _, row in issues_df.iterrows():\n",
    "        title = row.get(\"Summary\", \"No Title Provided\")\n",
    "        description = row.get(\"Description\", \"No Description Provided\")\n",
    "        labels = row.get(\"Labels\", \"No Labels Provided\")\n",
    "        release_note = create_release_note_for_story(title, description, labels)\n",
    "        release_notes += f\"<li>{release_note}</li>\\n\"\n",
    "    \n",
    "    categorized_notes = categorize_release_notes(release_notes, categories)\n",
    "    formatted_date = get_formatted_date()\n",
    "    \n",
    "    return f\"\"\"\n",
    "<p>\n",
    "  Our latest product release took effect on <strong>{formatted_date}</strong>.\n",
    "  This post may differ from the release notes sent via email.\n",
    "</p>\n",
    "<p>\n",
    "  For complete documentation, visit the \n",
    "  <a href=\"https://support.brightidea.com/hc/en-us/sections/200825397-Product-Release-Notes\">Product Release Notes</a> forum in the Support Portal.\n",
    "</p>\n",
    "{categorized_notes}\n",
    "\"\"\""
   ]
  },
  {
   "cell_type": "code",
   "execution_count": null,
   "metadata": {},
   "outputs": [],
   "source": [
    "# Cell to Run\n",
    "CATEGORIES = [\"General bug fixes and enhancements\", \"Project Room\", \"Whiteboard\", \"Hackathon\"]\n",
    "\n",
    "release_notes_html = generate_release_notes_from_csv(CSV_FILE_PATH, CATEGORIES)\n",
    "print(release_notes_html)"
   ]
  }
 ],
 "metadata": {
  "kernelspec": {
   "display_name": "Python 3",
   "language": "python",
   "name": "python3"
  },
  "language_info": {
   "name": "python",
   "version": "3.13.1"
  }
 },
 "nbformat": 4,
 "nbformat_minor": 2
}
