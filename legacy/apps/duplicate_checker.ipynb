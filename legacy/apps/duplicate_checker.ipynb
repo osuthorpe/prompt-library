{
 "cells": [
  {
   "cell_type": "code",
   "execution_count": 28,
   "metadata": {},
   "outputs": [
    {
     "name": "stdout",
     "output_type": "stream",
     "text": [
      "Fetching vector IDs from namespace: bi-internal-ideas\n",
      "Total vector IDs fetched: 2115\n",
      "Fetching embeddings for 2115 vector IDs.\n"
     ]
    },
    {
     "name": "stderr",
     "output_type": "stream",
     "text": [
      "Fetching Embeddings: 100%|██████████| 22/22 [00:10<00:00,  2.05it/s]\n"
     ]
    },
    {
     "name": "stdout",
     "output_type": "stream",
     "text": [
      "Grouping duplicates with threshold: 0.85\n"
     ]
    },
    {
     "name": "stderr",
     "output_type": "stream",
     "text": [
      "Building Similarity Graph: 100%|██████████| 2115/2115 [04:18<00:00,  8.19it/s] "
     ]
    },
    {
     "name": "stdout",
     "output_type": "stream",
     "text": [
      "Duplicate Group 1:\n"
     ]
    },
    {
     "name": "stderr",
     "output_type": "stream",
     "text": [
      "\n"
     ]
    },
    {
     "data": {
      "text/html": [
       "<a href=\"https://bi.brightidea.com/productrequests/D19085\" target=\"_blank\">[D19085]</a> - New Submission by me should show up in Recent list in Global Nav"
      ],
      "text/plain": [
       "<IPython.core.display.HTML object>"
      ]
     },
     "metadata": {},
     "output_type": "display_data"
    },
    {
     "data": {
      "text/html": [
       "<a href=\"https://bi.brightidea.com/productrequests/D18384\" target=\"_blank\">[D18384]</a> - email submission ... handle not permitted."
      ],
      "text/plain": [
       "<IPython.core.display.HTML object>"
      ]
     },
     "metadata": {},
     "output_type": "display_data"
    },
    {
     "data": {
      "text/html": [
       "<a href=\"https://bi.brightidea.com/productrequests/D17859\" target=\"_blank\">[D17859]</a> - New Submissions from me should show up in Recent List"
      ],
      "text/plain": [
       "<IPython.core.display.HTML object>"
      ]
     },
     "metadata": {},
     "output_type": "display_data"
    },
    {
     "data": {
      "text/html": [
       "<a href=\"https://bi.brightidea.com/productrequests/D18221\" target=\"_blank\">[D18221]</a> - New Submissions should show in Recent"
      ],
      "text/plain": [
       "<IPython.core.display.HTML object>"
      ]
     },
     "metadata": {},
     "output_type": "display_data"
    },
    {
     "name": "stdout",
     "output_type": "stream",
     "text": [
      "Duplicate Group 2:\n"
     ]
    },
    {
     "data": {
      "text/html": [
       "<a href=\"https://bi.brightidea.com/productrequests/D19132\" target=\"_blank\">[D19132]</a> - Paste image should work in reply to comment"
      ],
      "text/plain": [
       "<IPython.core.display.HTML object>"
      ]
     },
     "metadata": {},
     "output_type": "display_data"
    },
    {
     "data": {
      "text/html": [
       "<a href=\"https://bi.brightidea.com/productrequests/D16932\" target=\"_blank\">[D16932]</a> - View Ideas > Comment > Edit Comment > Allow Paste Image"
      ],
      "text/plain": [
       "<IPython.core.display.HTML object>"
      ]
     },
     "metadata": {},
     "output_type": "display_data"
    },
    {
     "data": {
      "text/html": [
       "<a href=\"https://bi.brightidea.com/productrequests/D17860\" target=\"_blank\">[D17860]</a> - Comment, Reply and Edit should all look and work the same where possible."
      ],
      "text/plain": [
       "<IPython.core.display.HTML object>"
      ]
     },
     "metadata": {},
     "output_type": "display_data"
    },
    {
     "data": {
      "text/html": [
       "<a href=\"https://bi.brightidea.com/productrequests/D16601\" target=\"_blank\">[D16601]</a> - Edit comment should behave like post comment wrt pasting image attachments."
      ],
      "text/plain": [
       "<IPython.core.display.HTML object>"
      ]
     },
     "metadata": {},
     "output_type": "display_data"
    },
    {
     "name": "stdout",
     "output_type": "stream",
     "text": [
      "Duplicate Group 3:\n"
     ]
    },
    {
     "data": {
      "text/html": [
       "<a href=\"https://bi.brightidea.com/productrequests/D19227\" target=\"_blank\">[D19227]</a> - Merge Ideas"
      ],
      "text/plain": [
       "<IPython.core.display.HTML object>"
      ]
     },
     "metadata": {},
     "output_type": "display_data"
    },
    {
     "data": {
      "text/html": [
       "<a href=\"https://bi.brightidea.com/productrequests/D14976\" target=\"_blank\">[D14976]</a> - Add Merge Idea function to List View and View idea 2.0 detail widget"
      ],
      "text/plain": [
       "<IPython.core.display.HTML object>"
      ]
     },
     "metadata": {},
     "output_type": "display_data"
    },
    {
     "data": {
      "text/html": [
       "<a href=\"https://bi.brightidea.com/productrequests/D15079\" target=\"_blank\">[D15079]</a> - Build \"Merge ideas\" into NGA"
      ],
      "text/plain": [
       "<IPython.core.display.HTML object>"
      ]
     },
     "metadata": {},
     "output_type": "display_data"
    },
    {
     "name": "stdout",
     "output_type": "stream",
     "text": [
      "Duplicate Group 4:\n"
     ]
    },
    {
     "data": {
      "text/html": [
       "<a href=\"https://bi.brightidea.com/productrequests/D26239\" target=\"_blank\">[D26239]</a> - Consider updating the Hackathon Support pages to reflect current name and branding"
      ],
      "text/plain": [
       "<IPython.core.display.HTML object>"
      ]
     },
     "metadata": {},
     "output_type": "display_data"
    },
    {
     "data": {
      "text/html": [
       "<a href=\"https://bi.brightidea.com/productrequests/D26238\" target=\"_blank\">[D26238]</a> - Consider updating all references from Hack to Hackathon in our product. Include brand update as well"
      ],
      "text/plain": [
       "<IPython.core.display.HTML object>"
      ]
     },
     "metadata": {},
     "output_type": "display_data"
    },
    {
     "name": "stdout",
     "output_type": "stream",
     "text": [
      "Duplicate Group 5:\n"
     ]
    },
    {
     "data": {
      "text/html": [
       "<a href=\"https://bi.brightidea.com/productrequests/D18223\" target=\"_blank\">[D18223]</a> - View Idea > Comments > Image Light Box ... better handling of large files"
      ],
      "text/plain": [
       "<IPython.core.display.HTML object>"
      ]
     },
     "metadata": {},
     "output_type": "display_data"
    },
    {
     "data": {
      "text/html": [
       "<a href=\"https://bi.brightidea.com/productrequests/D19788\" target=\"_blank\">[D19788]</a> - View Idea > Comment Image > Light box fails on wide images."
      ],
      "text/plain": [
       "<IPython.core.display.HTML object>"
      ]
     },
     "metadata": {},
     "output_type": "display_data"
    },
    {
     "name": "stdout",
     "output_type": "stream",
     "text": [
      "Duplicate Group 6:\n"
     ]
    },
    {
     "data": {
      "text/html": [
       "<a href=\"https://bi.brightidea.com/productrequests/D18056\" target=\"_blank\">[D18056]</a> - Limit Admins by Product (Programs, Labs, etc.)"
      ],
      "text/plain": [
       "<IPython.core.display.HTML object>"
      ]
     },
     "metadata": {},
     "output_type": "display_data"
    },
    {
     "data": {
      "text/html": [
       "<a href=\"https://bi.brightidea.com/productrequests/D17219\" target=\"_blank\">[D17219]</a> - Limit Admins by Total Purchased"
      ],
      "text/plain": [
       "<IPython.core.display.HTML object>"
      ]
     },
     "metadata": {},
     "output_type": "display_data"
    },
    {
     "name": "stdout",
     "output_type": "stream",
     "text": [
      "Duplicate Group 7:\n"
     ]
    },
    {
     "data": {
      "text/html": [
       "<a href=\"https://bi.brightidea.com/productrequests/D17638\" target=\"_blank\">[D17638]</a> - Browser search query... interrupted by login... leads to infinite spinner"
      ],
      "text/plain": [
       "<IPython.core.display.HTML object>"
      ]
     },
     "metadata": {},
     "output_type": "display_data"
    },
    {
     "data": {
      "text/html": [
       "<a href=\"https://bi.brightidea.com/productrequests/D17184\" target=\"_blank\">[D17184]</a> - When Search URL is interrupted by login box, search term is lost"
      ],
      "text/plain": [
       "<IPython.core.display.HTML object>"
      ]
     },
     "metadata": {},
     "output_type": "display_data"
    },
    {
     "name": "stdout",
     "output_type": "stream",
     "text": [
      "Duplicate Group 8:\n"
     ]
    },
    {
     "data": {
      "text/html": [
       "<a href=\"https://bi.brightidea.com/productrequests/D17670\" target=\"_blank\">[D17670]</a> - Improve Status Change Email Templates"
      ],
      "text/plain": [
       "<IPython.core.display.HTML object>"
      ]
     },
     "metadata": {},
     "output_type": "display_data"
    },
    {
     "data": {
      "text/html": [
       "<a href=\"https://bi.brightidea.com/productrequests/D17669\" target=\"_blank\">[D17669]</a> - Improve Status Change Email Templates"
      ],
      "text/plain": [
       "<IPython.core.display.HTML object>"
      ]
     },
     "metadata": {},
     "output_type": "display_data"
    },
    {
     "data": {
      "text/html": [
       "<a href=\"https://bi.brightidea.com/productrequests/D17671\" target=\"_blank\">[D17671]</a> - Improve Status Change Email Templates"
      ],
      "text/plain": [
       "<IPython.core.display.HTML object>"
      ]
     },
     "metadata": {},
     "output_type": "display_data"
    },
    {
     "data": {
      "text/html": [
       "<a href=\"https://bi.brightidea.com/productrequests/D17667\" target=\"_blank\">[D17667]</a> - Improve Status Change Email Templates"
      ],
      "text/plain": [
       "<IPython.core.display.HTML object>"
      ]
     },
     "metadata": {},
     "output_type": "display_data"
    },
    {
     "data": {
      "text/html": [
       "<a href=\"https://bi.brightidea.com/productrequests/D17668\" target=\"_blank\">[D17668]</a> - Improve Status Change Email Templates"
      ],
      "text/plain": [
       "<IPython.core.display.HTML object>"
      ]
     },
     "metadata": {},
     "output_type": "display_data"
    },
    {
     "name": "stdout",
     "output_type": "stream",
     "text": [
      "Duplicate Group 9:\n"
     ]
    },
    {
     "data": {
      "text/html": [
       "<a href=\"https://bi.brightidea.com/productrequests/D16898\" target=\"_blank\">[D16898]</a> - QuickAdd Improvements"
      ],
      "text/plain": [
       "<IPython.core.display.HTML object>"
      ]
     },
     "metadata": {},
     "output_type": "display_data"
    },
    {
     "data": {
      "text/html": [
       "<a href=\"https://bi.brightidea.com/productrequests/D16900\" target=\"_blank\">[D16900]</a> - QuickAdd Improvements"
      ],
      "text/plain": [
       "<IPython.core.display.HTML object>"
      ]
     },
     "metadata": {},
     "output_type": "display_data"
    },
    {
     "name": "stdout",
     "output_type": "stream",
     "text": [
      "Duplicate Group 10:\n"
     ]
    },
    {
     "data": {
      "text/html": [
       "<a href=\"https://bi.brightidea.com/productrequests/D16901\" target=\"_blank\">[D16901]</a> - TeamSpace > Risks > Filter by Resolved / Un-Resolved"
      ],
      "text/plain": [
       "<IPython.core.display.HTML object>"
      ]
     },
     "metadata": {},
     "output_type": "display_data"
    },
    {
     "data": {
      "text/html": [
       "<a href=\"https://bi.brightidea.com/productrequests/D16886\" target=\"_blank\">[D16886]</a> - TeamSpace > Risks > Filter by Resolved / Un-Resolved"
      ],
      "text/plain": [
       "<IPython.core.display.HTML object>"
      ]
     },
     "metadata": {},
     "output_type": "display_data"
    },
    {
     "name": "stdout",
     "output_type": "stream",
     "text": [
      "Duplicate Group 11:\n"
     ]
    },
    {
     "data": {
      "text/html": [
       "<a href=\"https://bi.brightidea.com/productrequests/D20275\" target=\"_blank\">[D20275]</a> - Change Status Should offer to set status of linked ideas"
      ],
      "text/plain": [
       "<IPython.core.display.HTML object>"
      ]
     },
     "metadata": {},
     "output_type": "display_data"
    },
    {
     "data": {
      "text/html": [
       "<a href=\"https://bi.brightidea.com/productrequests/D20028\" target=\"_blank\">[D20028]</a> - Offer to change status of linked ideas"
      ],
      "text/plain": [
       "<IPython.core.display.HTML object>"
      ]
     },
     "metadata": {},
     "output_type": "display_data"
    }
   ],
   "source": [
    "# Import necessary libraries\n",
    "import os\n",
    "import numpy as np\n",
    "from IPython.display import display, HTML\n",
    "from tqdm import tqdm\n",
    "from collections import defaultdict\n",
    "from dotenv import load_dotenv\n",
    "from openai import OpenAI\n",
    "from pinecone.grpc import PineconeGRPC as Pinecone\n",
    "\n",
    "# Load environment variables\n",
    "load_dotenv()\n",
    "\n",
    "# Set up Pinecone API key and initialize\n",
    "pinecone_api_key = os.getenv(\"PINECONE_API_KEY\")\n",
    "if not pinecone_api_key:\n",
    "    raise ValueError(\"PINECONE_API_KEY is not set in the .env file\")\n",
    "\n",
    "pc = Pinecone(api_key=pinecone_api_key)\n",
    "\n",
    "client = OpenAI()\n",
    "\n",
    "# Connect to the index\n",
    "index_name = 'idea-index'\n",
    "namespace = os.getenv(\"PINECONE_NAMESPACE\")\n",
    "\n",
    "details = pc.describe_index(index_name)\n",
    "index = pc.Index(host=details.host)\n",
    "\n",
    "def get_all_vector_ids(index, namespace):\n",
    "    \"\"\"Fetch all vector IDs from the Pinecone index.\"\"\"\n",
    "    vector_ids = []\n",
    "\n",
    "    print(f\"Fetching vector IDs from namespace: {namespace}\")\n",
    "\n",
    "    for ids in index.list(namespace=namespace):\n",
    "        vector_ids.extend(ids)\n",
    "\n",
    "    print(f\"Total vector IDs fetched: {len(vector_ids)}\")\n",
    "\n",
    "    return vector_ids\n",
    "\n",
    "\n",
    "def get_all_embeddings(index, vector_ids, namespace, batch_size=100):\n",
    "    \"\"\"Fetch embeddings and metadata from Pinecone by vector IDs with a progress bar.\"\"\"\n",
    "    print(f\"Fetching embeddings for {len(vector_ids)} vector IDs.\")\n",
    "    embeddings = []\n",
    "\n",
    "    # Wrap the loop with tqdm for a progress bar\n",
    "    for i in tqdm(range(0, len(vector_ids), batch_size), desc=\"Fetching Embeddings\"):\n",
    "        batch_ids = vector_ids[i:i + batch_size]\n",
    "        response = index.fetch(ids=batch_ids, namespace=namespace)\n",
    "        for vector_id, vector_data in response[\"vectors\"].items():\n",
    "            embeddings.append({\n",
    "                \"id\": vector_id,\n",
    "                \"values\": vector_data[\"values\"],\n",
    "                \"metadata\": vector_data[\"metadata\"],\n",
    "            })\n",
    "\n",
    "    return embeddings\n",
    "\n",
    "\n",
    "def cosine_similarity(vec1, vec2):\n",
    "    \"\"\"Calculate cosine similarity between two vectors.\"\"\"\n",
    "    vec1 = np.array(vec1)\n",
    "    vec2 = np.array(vec2)\n",
    "    return np.dot(vec1, vec2) / (np.linalg.norm(vec1) * np.linalg.norm(vec2))\n",
    "\n",
    "\n",
    "def group_duplicates(embeddings, threshold=0.95):\n",
    "    \"\"\"Group duplicates into clusters based on pairwise similarity.\"\"\"\n",
    "    print(f\"Grouping duplicates with threshold: {threshold}\")\n",
    "    graph = defaultdict(set)  # Graph to store similarity connections\n",
    "\n",
    "    # Build graph by connecting similar embeddings\n",
    "    for i in tqdm(range(len(embeddings)), desc=\"Building Similarity Graph\"):\n",
    "        for j in range(i + 1, len(embeddings)):\n",
    "            sim = cosine_similarity(embeddings[i][\"values\"], embeddings[j][\"values\"])\n",
    "            if sim >= threshold:\n",
    "                graph[embeddings[i][\"id\"]].add(embeddings[j][\"id\"])\n",
    "                graph[embeddings[j][\"id\"]].add(embeddings[i][\"id\"])\n",
    "\n",
    "    # Find connected components in the graph\n",
    "    visited = set()\n",
    "    clusters = []\n",
    "\n",
    "    def dfs(node, cluster):\n",
    "        \"\"\"Depth-first search to find all connected nodes.\"\"\"\n",
    "        if node in visited:\n",
    "            return\n",
    "        visited.add(node)\n",
    "        cluster.append(node)\n",
    "        for neighbor in graph[node]:\n",
    "            dfs(neighbor, cluster)\n",
    "\n",
    "    for node in graph:\n",
    "        if node not in visited:\n",
    "            cluster = []\n",
    "            dfs(node, cluster)\n",
    "            clusters.append(cluster)\n",
    "\n",
    "    return clusters\n",
    "\n",
    "\n",
    "# Step 1: Fetch all vector IDs\n",
    "vector_ids = get_all_vector_ids(index, namespace)\n",
    "\n",
    "# Step 2: Fetch all embeddings\n",
    "embeddings = get_all_embeddings(index, vector_ids, namespace)\n",
    "\n",
    "\n",
    "# Step 3: Group duplicates\n",
    "if embeddings:\n",
    "    threshold = 0.85  # Adjust threshold as needed\n",
    "    duplicate_clusters = group_duplicates(embeddings, threshold=threshold)\n",
    "    if duplicate_clusters:\n",
    "        for group_number, cluster in enumerate(duplicate_clusters, start=1):  # Start numbering from 1\n",
    "            print(f\"Duplicate Group {group_number}:\")\n",
    "            \n",
    "            for idea_id in cluster:\n",
    "                # Fetch metadata for the current idea\n",
    "                idea_metadata = next(e[\"metadata\"] for e in embeddings if e[\"id\"] == idea_id)\n",
    "                idea_code = idea_metadata.get(\"code\", \"N/A\")\n",
    "                idea_title = idea_metadata.get(\"title\", \"No Title\")\n",
    "                link_url = f\"https://bi.brightidea.com/productrequests/{idea_code}\"  # Replace with your actual base URL\n",
    "\n",
    "                # Display the idea as a clickable link\n",
    "                html_content = f'<a href=\"{link_url}\" target=\"_blank\">[{idea_code}]</a> - {idea_title}'\n",
    "                display(HTML(html_content))\n",
    "    else:\n",
    "        print(\"No duplicate clusters found.\")\n",
    "else:\n",
    "    print(\"No embeddings found in the index.\")\n"
   ]
  }
 ],
 "metadata": {
  "kernelspec": {
   "display_name": "venv",
   "language": "python",
   "name": "python3"
  },
  "language_info": {
   "codemirror_mode": {
    "name": "ipython",
    "version": 3
   },
   "file_extension": ".py",
   "mimetype": "text/x-python",
   "name": "python",
   "nbconvert_exporter": "python",
   "pygments_lexer": "ipython3",
   "version": "3.12.3"
  }
 },
 "nbformat": 4,
 "nbformat_minor": 2
}
