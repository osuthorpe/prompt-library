{
 "cells": [
  {
   "cell_type": "code",
   "execution_count": null,
   "metadata": {},
   "outputs": [],
   "source": [
    "# Cell 1: Import Libraries\n",
    "import yaml\n",
    "import requests\n",
    "\n",
    "# Cell 2: Load Secrets\n",
    "def load_secrets(file_path=\"supporting_files/secrets.yaml\"):\n",
    "    \"\"\"Load API keys from the secrets file.\"\"\"\n",
    "    with open(file_path, 'r') as file:\n",
    "        return yaml.safe_load(file)\n",
    "\n",
    "secrets = load_secrets()\n",
    "\n",
    "# Cell 3: Load Prompt Data\n",
    "def load_prompt(file_path):\n",
    "    \"\"\"Load a YAML prompt from the given file path.\"\"\"\n",
    "    with open(file_path, 'r') as file:\n",
    "        return yaml.safe_load(file)\n",
    "\n",
    "prompt_file = \"prompts/paraphraser_prompt.yaml\"\n",
    "prompt_data = load_prompt(prompt_file)\n",
    "\n",
    "# Cell 4: Prepare API Request\n",
    "api_url = prompt_data['recommended_model']['api_endpoint']\n",
    "api_payload = yaml.safe_load(prompt_data['recommended_model']['example_payload'])\n",
    "api_payload['prompt'] = prompt_data['full_prompt']\n",
    "\n",
    "# Add your API key from secrets\n",
    "headers = {\n",
    "    \"Content-Type\": \"application/json\",\n",
    "    \"Authorization\": f\"Bearer {secrets['openai_api_key']}\"\n",
    "}\n",
    "\n",
    "# Cell 5: Send API Request\n",
    "response = requests.post(api_url, json=api_payload, headers=headers)\n",
    "\n",
    "# Cell 6: Display API Response\n",
    "if response.status_code == 200:\n",
    "    print(\"API Response:\")\n",
    "    print(response.json())\n",
    "else:\n",
    "    print(f\"Error {response.status_code}: {response.text}\")\n"
   ]
  }
 ],
 "metadata": {
  "kernelspec": {
   "display_name": "Python 3",
   "language": "python",
   "name": "python3"
  },
  "language_info": {
   "name": "python",
   "version": "3.13.1"
  }
 },
 "nbformat": 4,
 "nbformat_minor": 2
}
