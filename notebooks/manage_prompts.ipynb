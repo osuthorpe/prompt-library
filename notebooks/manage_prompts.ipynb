{
 "cells": [
  {
   "cell_type": "code",
   "execution_count": null,
   "metadata": {},
   "outputs": [],
   "source": [
    "# Cell 1: Import Libraries\n",
    "import yaml\n",
    "import os\n",
    "\n",
    "# Cell 2: Function to Load a Prompt\n",
    "def load_prompt(file_path):\n",
    "    \"\"\"Load a YAML prompt from the given file path.\"\"\"\n",
    "    with open(file_path, 'r') as file:\n",
    "        return yaml.safe_load(file)\n",
    "\n",
    "# Cell 3: Function to List Prompts\n",
    "def list_prompts(directory=\"prompts\"):\n",
    "    \"\"\"List all YAML files in the prompts directory.\"\"\"\n",
    "    prompts = []\n",
    "    for file in os.listdir(directory):\n",
    "        if file.endswith(\".yaml\"):\n",
    "            prompts.append(os.path.join(directory, file))\n",
    "    return prompts\n",
    "\n",
    "# Cell 4: Display Available Prompts\n",
    "print(\"Available prompts:\")\n",
    "for file_path in list_prompts():\n",
    "    prompt_data = load_prompt(file_path)\n",
    "    print(f\"- {prompt_data['name']} ({file_path})\")\n",
    "\n",
    "# Cell 5: Load a Specific Prompt\n",
    "selected_prompt = \"prompts/paraphraser_prompt.yaml\"\n",
    "prompt_data = load_prompt(selected_prompt)\n",
    "\n",
    "print(\"Full Prompt for Copy-Paste:\")\n",
    "print(prompt_data['full_prompt'])"
   ]
  }
 ],
 "metadata": {
  "kernelspec": {
   "display_name": "Python 3",
   "language": "python",
   "name": "python3"
  },
  "language_info": {
   "name": "python",
   "version": "3.13.1"
  }
 },
 "nbformat": 4,
 "nbformat_minor": 2
}
